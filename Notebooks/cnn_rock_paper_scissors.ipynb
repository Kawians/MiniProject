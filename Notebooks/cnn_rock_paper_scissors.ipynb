{
  "cells": [
    {
      "cell_type": "markdown",
      "metadata": {
        "id": "3m_4pSq6_sje"
      },
      "source": [
        "# Project Description: \"Needs to be completed\""
      ]
    },
    {
      "cell_type": "markdown",
      "metadata": {
        "id": "61koPSRFNd_7"
      },
      "source": [
        "## How to load and format data was taking from: https://colab.research.google.com/github/trekhleb/machine-learning-experiments/blob/master/experiments/rock_paper_scissors_cnn/rock_paper_scissors_cnn.ipynb#scrollTo=DJ8jGFnTLt8t"
      ]
    },
    {
      "cell_type": "markdown",
      "metadata": {
        "id": "6Zd40FUS_j_v"
      },
      "source": [
        "### Un-comment and run if your environment is missing tensorflow datasets package."
      ]
    },
    {
      "cell_type": "code",
      "execution_count": null,
      "metadata": {
        "id": "enzkDei2_g-K"
      },
      "outputs": [],
      "source": [
        "# ! pip install tensorflow_datasets"
      ]
    },
    {
      "cell_type": "code",
      "execution_count": 37,
      "metadata": {
        "id": "0OC1fi1b_dKT"
      },
      "outputs": [],
      "source": [
        "import tensorflow as tf\n",
        "import tensorflow_datasets as tfds"
      ]
    },
    {
      "cell_type": "code",
      "execution_count": 38,
      "metadata": {
        "id": "i9BSbAD-K5qJ"
      },
      "outputs": [],
      "source": [
        "# Load the Rock Paper Scissors dataset\n",
        "dataset = tfds.load('rock_paper_scissors')\n",
        "\n",
        "# Split the dataset into training and testing sets\n",
        "train_dataset = dataset['train']\n",
        "test_dataset = dataset['test']"
      ]
    },
    {
      "cell_type": "markdown",
      "metadata": {
        "id": "sE38w8xPC0-R"
      },
      "source": [
        "### Data Exploration: \"Needs to be completed\""
      ]
    },
    {
      "cell_type": "code",
      "execution_count": 38,
      "metadata": {
        "id": "YQzxGc5yAYhm"
      },
      "outputs": [],
      "source": []
    },
    {
      "cell_type": "markdown",
      "metadata": {
        "id": "YIu_TG64IK4V"
      },
      "source": [
        "### Pre-Process data"
      ]
    },
    {
      "cell_type": "code",
      "execution_count": 39,
      "metadata": {
        "id": "474iODl5IIzC"
      },
      "outputs": [],
      "source": [
        "def preprocess_image(data):\n",
        "    image = tf.image.resize(data['image'], (300, 300))\n",
        "    image = tf.cast(image, tf.float32) / 255.0\n",
        "    label = data['label']\n",
        "    return image, label\n",
        "\n",
        "train_dataset = train_dataset.map(preprocess_image)\n",
        "train_dataset = train_dataset.batch(32).prefetch(tf.data.AUTOTUNE)\n",
        "\n",
        "test_dataset = test_dataset.map(preprocess_image)\n",
        "test_dataset = test_dataset.batch(32).prefetch(tf.data.AUTOTUNE)"
      ]
    },
    {
      "cell_type": "code",
      "execution_count": 40,
      "metadata": {
        "id": "UbT0PpH-HG6h"
      },
      "outputs": [],
      "source": [
        "# Define the cnn model\n",
        "model = tf.keras.Sequential([\n",
        "    tf.keras.layers.Conv2D(32, (3, 3), activation='relu', input_shape=(300, 300, 3)),\n",
        "    tf.keras.layers.MaxPooling2D((2, 2)),\n",
        "    tf.keras.layers.Conv2D(64, (3, 3), activation='relu'),\n",
        "    tf.keras.layers.MaxPooling2D((2, 2)),\n",
        "    tf.keras.layers.Conv2D(128, (3, 3), activation='relu'),\n",
        "    tf.keras.layers.MaxPooling2D((2, 2)),\n",
        "    tf.keras.layers.Flatten(),\n",
        "    tf.keras.layers.Dense(128, activation='relu'),\n",
        "    tf.keras.layers.Dense(3, activation='softmax')\n",
        "])"
      ]
    },
    {
      "cell_type": "code",
      "execution_count": 41,
      "metadata": {
        "id": "JVsfKHZpIPu7"
      },
      "outputs": [],
      "source": [
        "# we can also add learning rate to optimizer\n",
        "# adam_optimizer = tf.keras.optimizers.Adam(learning_rate=0.001)\n",
        "\n",
        "\n",
        "# Compile cnn model\n",
        "model.compile(optimizer='adam', loss='sparse_categorical_crossentropy', metrics=['accuracy'])"
      ]
    },
    {
      "cell_type": "code",
      "execution_count": 42,
      "metadata": {
        "colab": {
          "base_uri": "https://localhost:8080/"
        },
        "id": "EMMLOCB6LrQJ",
        "outputId": "83cee169-6c7e-413b-92fb-938afa83d443"
      },
      "outputs": [
        {
          "name": "stdout",
          "output_type": "stream",
          "text": [
            "Epoch 1/10\n",
            "79/79 [==============================] - 11s 111ms/step - loss: 0.8096 - accuracy: 0.7536\n",
            "Epoch 2/10\n",
            "79/79 [==============================] - 6s 81ms/step - loss: 0.0136 - accuracy: 0.9960\n",
            "Epoch 3/10\n",
            "79/79 [==============================] - 6s 80ms/step - loss: 4.9205e-04 - accuracy: 1.0000\n",
            "Epoch 4/10\n",
            "79/79 [==============================] - 7s 84ms/step - loss: 6.2936e-05 - accuracy: 1.0000\n",
            "Epoch 5/10\n",
            "79/79 [==============================] - 6s 79ms/step - loss: 3.9146e-05 - accuracy: 1.0000\n",
            "Epoch 6/10\n",
            "79/79 [==============================] - 6s 81ms/step - loss: 2.4601e-05 - accuracy: 1.0000\n",
            "Epoch 7/10\n",
            "79/79 [==============================] - 6s 79ms/step - loss: 1.5733e-05 - accuracy: 1.0000\n",
            "Epoch 8/10\n",
            "79/79 [==============================] - 7s 85ms/step - loss: 1.0655e-05 - accuracy: 1.0000\n",
            "Epoch 9/10\n",
            "79/79 [==============================] - 6s 77ms/step - loss: 7.0842e-06 - accuracy: 1.0000\n",
            "Epoch 10/10\n",
            "79/79 [==============================] - 6s 81ms/step - loss: 4.4244e-06 - accuracy: 1.0000\n"
          ]
        },
        {
          "data": {
            "text/plain": [
              "<keras.callbacks.History at 0x7efaeabc4400>"
            ]
          },
          "execution_count": 42,
          "metadata": {},
          "output_type": "execute_result"
        }
      ],
      "source": [
        "\n",
        "# Train cnn mmodel\n",
        "model.fit(train_dataset, epochs=10)"
      ]
    },
    {
      "cell_type": "code",
      "execution_count": 43,
      "metadata": {
        "colab": {
          "base_uri": "https://localhost:8080/"
        },
        "id": "nDFxXPoILtYy",
        "outputId": "4d50889b-783b-4584-92c9-8dfe1fade847"
      },
      "outputs": [
        {
          "name": "stdout",
          "output_type": "stream",
          "text": [
            "12/12 [==============================] - 1s 80ms/step - loss: 3.0795 - accuracy: 0.6747\n"
          ]
        },
        {
          "data": {
            "text/plain": [
              "[3.07952880859375, 0.6747311949729919]"
            ]
          },
          "execution_count": 43,
          "metadata": {},
          "output_type": "execute_result"
        }
      ],
      "source": [
        "# Evaluate cnn model\n",
        "model.evaluate(test_dataset)"
      ]
    },
    {
      "cell_type": "code",
      "execution_count": 44,
      "metadata": {
        "id": "8eS1tIESMLmj"
      },
      "outputs": [],
      "source": [
        "# save cnn model\n",
        "model_name = 'rock_paper_scissors_cnn.h5'\n",
        "model.save(model_name, save_format='h5')"
      ]
    },
    {
      "cell_type": "code",
      "execution_count": null,
      "metadata": {
        "id": "_5ATRdGHNE7Q"
      },
      "outputs": [],
      "source": []
    },
    {
      "cell_type": "markdown",
      "metadata": {
        "id": "JYQCID1SN_aw"
      },
      "source": [
        "## Finetunning: (Needs to be done)\n",
        "### Train data is overfitting and test accuracy is low. See data augmentation section in google notebook on how to fix overfitting."
      ]
    },
    {
      "cell_type": "code",
      "execution_count": null,
      "metadata": {
        "id": "UlAztjmNOZkl"
      },
      "outputs": [],
      "source": []
    },
    {
      "cell_type": "code",
      "execution_count": null,
      "metadata": {
        "id": "yd6sCTXOOafK"
      },
      "outputs": [],
      "source": []
    },
    {
      "cell_type": "code",
      "execution_count": null,
      "metadata": {
        "id": "3wsXK42xOah4"
      },
      "outputs": [],
      "source": []
    },
    {
      "cell_type": "code",
      "execution_count": null,
      "metadata": {
        "id": "hQw1B2RyOalV"
      },
      "outputs": [],
      "source": []
    },
    {
      "cell_type": "code",
      "execution_count": null,
      "metadata": {
        "id": "OZaHKHN6Oav0"
      },
      "outputs": [],
      "source": []
    },
    {
      "cell_type": "code",
      "execution_count": null,
      "metadata": {
        "id": "kVebb3xpOazW"
      },
      "outputs": [],
      "source": []
    }
  ],
  "metadata": {
    "accelerator": "GPU",
    "colab": {
      "gpuType": "T4",
      "provenance": []
    },
    "kernelspec": {
      "display_name": "Python 3",
      "name": "python3"
    },
    "language_info": {
      "name": "python"
    }
  },
  "nbformat": 4,
  "nbformat_minor": 0
}
