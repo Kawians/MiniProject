{
  "cells": [
    {
      "cell_type": "markdown",
      "metadata": {
        "id": "3m_4pSq6_sje"
      },
      "source": [
        "# Project Description: \"Needs to be completed\""
      ]
    },
    {
      "cell_type": "markdown",
      "metadata": {
        "id": "61koPSRFNd_7"
      },
      "source": [
        "## How to load and format data was taking from: https://colab.research.google.com/github/trekhleb/machine-learning-experiments/blob/master/experiments/rock_paper_scissors_cnn/rock_paper_scissors_cnn.ipynb#scrollTo=DJ8jGFnTLt8t"
      ]
    },
    {
      "cell_type": "markdown",
      "metadata": {
        "id": "6Zd40FUS_j_v"
      },
      "source": [
        "### Un-comment and run if your environment is missing tensorflow datasets package."
      ]
    },
    {
      "cell_type": "code",
      "execution_count": null,
      "metadata": {
        "id": "enzkDei2_g-K"
      },
      "outputs": [],
      "source": [
        "# ! pip install tensorflow_datasets"
      ]
    },
    {
      "cell_type": "code",
      "execution_count": 29,
      "metadata": {
        "id": "0OC1fi1b_dKT"
      },
      "outputs": [],
      "source": [
        "import tensorflow as tf\n",
        "import tensorflow_datasets as tfds"
      ]
    },
    {
      "cell_type": "code",
      "execution_count": 30,
      "metadata": {
        "id": "i9BSbAD-K5qJ"
      },
      "outputs": [],
      "source": [
        "# Load the Rock Paper Scissors dataset\n",
        "dataset = tfds.load('rock_paper_scissors')\n",
        "\n",
        "# Split the dataset into training and testing sets\n",
        "train_dataset = dataset['train']\n",
        "test_dataset = dataset['test']"
      ]
    },
    {
      "cell_type": "code",
      "execution_count": 31,
      "metadata": {
        "id": "j_mL9mzBDQI9"
      },
      "outputs": [],
      "source": [
        "# number of samples to reduce size of model\n",
        "#num_samples = 1000\n",
        "\n",
        "# Take a subset of the training dataset\n",
        "#train_dataset = train_dataset.take(num_samples)"
      ]
    },
    {
      "cell_type": "markdown",
      "metadata": {
        "id": "sE38w8xPC0-R"
      },
      "source": [
        "### Data Exploration: \"Needs to be completed\""
      ]
    },
    {
      "cell_type": "code",
      "execution_count": 31,
      "metadata": {
        "id": "YQzxGc5yAYhm"
      },
      "outputs": [],
      "source": []
    },
    {
      "cell_type": "markdown",
      "metadata": {
        "id": "YIu_TG64IK4V"
      },
      "source": [
        "### Pre-Process data"
      ]
    },
    {
      "cell_type": "code",
      "execution_count": 32,
      "metadata": {
        "id": "474iODl5IIzC"
      },
      "outputs": [],
      "source": [
        "# Image size reduced from 300x300 to 100x100\n",
        "def preprocess_image(data):\n",
        "    image = tf.image.resize(data['image'], (128, 128))\n",
        "    image = tf.cast(image, tf.float32) / 255.0\n",
        "    label = data['label']\n",
        "    return image, label\n",
        "\n",
        "train_dataset = train_dataset.map(preprocess_image)\n",
        "train_dataset = train_dataset.batch(32).prefetch(tf.data.AUTOTUNE)\n",
        "\n",
        "test_dataset = test_dataset.map(preprocess_image)\n",
        "test_dataset = test_dataset.batch(32).prefetch(tf.data.AUTOTUNE)"
      ]
    },
    {
      "cell_type": "code",
      "execution_count": 33,
      "metadata": {
        "id": "UbT0PpH-HG6h"
      },
      "outputs": [],
      "source": [
        "# Model Layers reduced to 5, so it can work with streamlit\n",
        "model = tf.keras.Sequential([\n",
        "    tf.keras.layers.Conv2D(16, (3, 3), activation='relu', input_shape=(128, 128, 3)),\n",
        "    tf.keras.layers.MaxPooling2D((2, 2)),\n",
        "    tf.keras.layers.Flatten(),\n",
        "    tf.keras.layers.Dense(32, activation='relu'),\n",
        "    tf.keras.layers.Dense(3, activation='softmax')\n",
        "])"
      ]
    },
    {
      "cell_type": "code",
      "execution_count": 34,
      "metadata": {
        "id": "JVsfKHZpIPu7"
      },
      "outputs": [],
      "source": [
        "# we can also add learning rate to optimizer\n",
        "# adam_optimizer = tf.keras.optimizers.Adam(learning_rate=0.001)\n",
        "\n",
        "\n",
        "# Compile cnn model\n",
        "model.compile(optimizer='adam', loss='sparse_categorical_crossentropy', metrics=['accuracy'])"
      ]
    },
    {
      "cell_type": "code",
      "execution_count": 35,
      "metadata": {
        "colab": {
          "base_uri": "https://localhost:8080/"
        },
        "id": "EMMLOCB6LrQJ",
        "outputId": "e594585c-b33a-40bc-cd20-fef5ff20f035"
      },
      "outputs": [
        {
          "name": "stdout",
          "output_type": "stream",
          "text": [
            "Epoch 1/10\n",
            "79/79 [==============================] - 8s 81ms/step - loss: 1.4404 - accuracy: 0.3429\n",
            "Epoch 2/10\n",
            "79/79 [==============================] - 1s 15ms/step - loss: 1.0987 - accuracy: 0.3333\n",
            "Epoch 3/10\n",
            "79/79 [==============================] - 1s 15ms/step - loss: 1.0987 - accuracy: 0.3333\n",
            "Epoch 4/10\n",
            "79/79 [==============================] - 1s 11ms/step - loss: 1.0987 - accuracy: 0.3333\n",
            "Epoch 5/10\n",
            "79/79 [==============================] - 1s 11ms/step - loss: 1.0987 - accuracy: 0.3333\n",
            "Epoch 6/10\n",
            "79/79 [==============================] - 1s 14ms/step - loss: 1.0987 - accuracy: 0.3210\n",
            "Epoch 7/10\n",
            "79/79 [==============================] - 1s 18ms/step - loss: 1.0987 - accuracy: 0.3214\n",
            "Epoch 8/10\n",
            "79/79 [==============================] - 1s 12ms/step - loss: 1.0987 - accuracy: 0.3040\n",
            "Epoch 9/10\n",
            "79/79 [==============================] - 1s 10ms/step - loss: 1.0987 - accuracy: 0.3087\n",
            "Epoch 10/10\n",
            "79/79 [==============================] - 1s 10ms/step - loss: 1.0987 - accuracy: 0.3155\n"
          ]
        },
        {
          "data": {
            "text/plain": [
              "<keras.callbacks.History at 0x7f260c4a27a0>"
            ]
          },
          "execution_count": 35,
          "metadata": {},
          "output_type": "execute_result"
        }
      ],
      "source": [
        "\n",
        "# Train cnn mmodel\n",
        "model.fit(train_dataset, epochs=10)"
      ]
    },
    {
      "cell_type": "code",
      "execution_count": 36,
      "metadata": {
        "colab": {
          "base_uri": "https://localhost:8080/"
        },
        "id": "nDFxXPoILtYy",
        "outputId": "ce7fd21c-a2c4-4f66-9cd5-2fcbfcd2fa23"
      },
      "outputs": [
        {
          "name": "stdout",
          "output_type": "stream",
          "text": [
            "12/12 [==============================] - 1s 63ms/step - loss: 1.0986 - accuracy: 0.3333\n"
          ]
        },
        {
          "data": {
            "text/plain": [
              "[1.0986144542694092, 0.3333333432674408]"
            ]
          },
          "execution_count": 36,
          "metadata": {},
          "output_type": "execute_result"
        }
      ],
      "source": [
        "# Evaluate cnn model\n",
        "model.evaluate(test_dataset)"
      ]
    },
    {
      "cell_type": "code",
      "execution_count": 37,
      "metadata": {
        "id": "8eS1tIESMLmj"
      },
      "outputs": [],
      "source": [
        "# save cnn model\n",
        "model_name = 'rock_paper_scissors_cnn.h5'\n",
        "model.save(model_name, save_format='h5')"
      ]
    },
    {
      "cell_type": "code",
      "execution_count": null,
      "metadata": {
        "id": "_5ATRdGHNE7Q"
      },
      "outputs": [],
      "source": []
    },
    {
      "cell_type": "markdown",
      "metadata": {
        "id": "JYQCID1SN_aw"
      },
      "source": [
        "## Finetunning: (Needs to be done)\n",
        "### Train data is overfitting and test accuracy is low. Change parameters. See attached google notebook for optimal parameters. Also, pre-processing may need to be optimized as well, pre-processing imput shape, etc. Again, see notebook from google colab referenced at beginning of notebook."
      ]
    },
    {
      "cell_type": "code",
      "execution_count": null,
      "metadata": {
        "id": "UlAztjmNOZkl"
      },
      "outputs": [],
      "source": []
    },
    {
      "cell_type": "code",
      "execution_count": null,
      "metadata": {
        "id": "yd6sCTXOOafK"
      },
      "outputs": [],
      "source": []
    },
    {
      "cell_type": "code",
      "execution_count": null,
      "metadata": {
        "id": "3wsXK42xOah4"
      },
      "outputs": [],
      "source": []
    },
    {
      "cell_type": "code",
      "execution_count": null,
      "metadata": {
        "id": "hQw1B2RyOalV"
      },
      "outputs": [],
      "source": []
    },
    {
      "cell_type": "code",
      "execution_count": null,
      "metadata": {
        "id": "OZaHKHN6Oav0"
      },
      "outputs": [],
      "source": []
    },
    {
      "cell_type": "code",
      "execution_count": null,
      "metadata": {
        "id": "kVebb3xpOazW"
      },
      "outputs": [],
      "source": []
    }
  ],
  "metadata": {
    "accelerator": "GPU",
    "colab": {
      "gpuType": "T4",
      "provenance": []
    },
    "kernelspec": {
      "display_name": "Python 3",
      "name": "python3"
    },
    "language_info": {
      "name": "python"
    }
  },
  "nbformat": 4,
  "nbformat_minor": 0
}
