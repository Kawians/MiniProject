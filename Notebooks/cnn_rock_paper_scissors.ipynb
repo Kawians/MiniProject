{
  "nbformat": 4,
  "nbformat_minor": 0,
  "metadata": {
    "colab": {
      "provenance": [],
      "gpuType": "T4"
    },
    "kernelspec": {
      "name": "python3",
      "display_name": "Python 3"
    },
    "language_info": {
      "name": "python"
    },
    "accelerator": "GPU"
  },
  "cells": [
    {
      "cell_type": "markdown",
      "source": [
        "# Project Description: \"Needs to be completed\""
      ],
      "metadata": {
        "id": "3m_4pSq6_sje"
      }
    },
    {
      "cell_type": "markdown",
      "source": [
        "## How to load and format data was taking from: https://colab.research.google.com/github/trekhleb/machine-learning-experiments/blob/master/experiments/rock_paper_scissors_cnn/rock_paper_scissors_cnn.ipynb#scrollTo=DJ8jGFnTLt8t"
      ],
      "metadata": {
        "id": "61koPSRFNd_7"
      }
    },
    {
      "cell_type": "markdown",
      "source": [
        "### Un-comment and run if your environment is missing tensorflow datasets package."
      ],
      "metadata": {
        "id": "6Zd40FUS_j_v"
      }
    },
    {
      "cell_type": "code",
      "source": [
        "# ! pip install tensorflow_datasets"
      ],
      "metadata": {
        "id": "enzkDei2_g-K"
      },
      "execution_count": 57,
      "outputs": []
    },
    {
      "cell_type": "code",
      "source": [
        "import tensorflow as tf\n",
        "import tensorflow_datasets as tfds"
      ],
      "metadata": {
        "id": "0OC1fi1b_dKT"
      },
      "execution_count": 58,
      "outputs": []
    },
    {
      "cell_type": "code",
      "source": [
        "# Load the Rock Paper Scissors dataset\n",
        "dataset = tfds.load('rock_paper_scissors')\n",
        "\n",
        "# Split the dataset into training and testing sets\n",
        "train_dataset = dataset['train']\n",
        "test_dataset = dataset['test']"
      ],
      "metadata": {
        "id": "i9BSbAD-K5qJ"
      },
      "execution_count": 59,
      "outputs": []
    },
    {
      "cell_type": "code",
      "source": [
        "# number of samples to reduce size of model\n",
        "#num_samples = 1000\n",
        "\n",
        "# Take a subset of the training dataset\n",
        "#train_dataset = train_dataset.take(num_samples)"
      ],
      "metadata": {
        "id": "j_mL9mzBDQI9"
      },
      "execution_count": 60,
      "outputs": []
    },
    {
      "cell_type": "markdown",
      "source": [
        "### Data Exploration: \"Needs to be completed\""
      ],
      "metadata": {
        "id": "sE38w8xPC0-R"
      }
    },
    {
      "cell_type": "code",
      "source": [],
      "metadata": {
        "id": "YQzxGc5yAYhm"
      },
      "execution_count": 60,
      "outputs": []
    },
    {
      "cell_type": "markdown",
      "source": [
        "### Pre-Process data"
      ],
      "metadata": {
        "id": "YIu_TG64IK4V"
      }
    },
    {
      "cell_type": "code",
      "source": [
        "def preprocess_image(data):\n",
        "    image = tf.image.resize(data['image'], (128, 128))\n",
        "    image = tf.cast(image, tf.float32) / 255.0\n",
        "    label = data['label']\n",
        "    return image, label\n",
        "\n",
        "train_dataset = train_dataset.map(preprocess_image)\n",
        "train_dataset = train_dataset.batch(32).prefetch(tf.data.AUTOTUNE)\n",
        "\n",
        "test_dataset = test_dataset.map(preprocess_image)\n",
        "test_dataset = test_dataset.batch(32).prefetch(tf.data.AUTOTUNE)"
      ],
      "metadata": {
        "id": "474iODl5IIzC"
      },
      "execution_count": 61,
      "outputs": []
    },
    {
      "cell_type": "code",
      "source": [
        "# Define the CNN model\n",
        "model = tf.keras.Sequential([\n",
        "    tf.keras.layers.Conv2D(16, (3, 3), activation='relu', input_shape=(128, 128, 3)),\n",
        "    tf.keras.layers.MaxPooling2D((2, 2)),\n",
        "    tf.keras.layers.Flatten(),\n",
        "    tf.keras.layers.Dense(32, activation='relu'),\n",
        "    tf.keras.layers.Dense(3, activation='softmax')\n",
        "])"
      ],
      "metadata": {
        "id": "UbT0PpH-HG6h"
      },
      "execution_count": 62,
      "outputs": []
    },
    {
      "cell_type": "code",
      "source": [
        "# we can also add learning rate to optimizer\n",
        "# adam_optimizer = tf.keras.optimizers.Adam(learning_rate=0.001)\n",
        "\n",
        "\n",
        "# Compile cnn model\n",
        "model.compile(optimizer='adam', loss='sparse_categorical_crossentropy', metrics=['accuracy'])"
      ],
      "metadata": {
        "id": "JVsfKHZpIPu7"
      },
      "execution_count": 63,
      "outputs": []
    },
    {
      "cell_type": "code",
      "source": [
        "\n",
        "# Train cnn mmodel\n",
        "model.fit(train_dataset, epochs=10)"
      ],
      "metadata": {
        "colab": {
          "base_uri": "https://localhost:8080/"
        },
        "id": "EMMLOCB6LrQJ",
        "outputId": "932a419e-d8fb-4092-951b-fd87d5371617"
      },
      "execution_count": 64,
      "outputs": [
        {
          "output_type": "stream",
          "name": "stdout",
          "text": [
            "Epoch 1/10\n",
            "79/79 [==============================] - 7s 66ms/step - loss: 0.6659 - accuracy: 0.7683\n",
            "Epoch 2/10\n",
            "79/79 [==============================] - 1s 10ms/step - loss: 0.0969 - accuracy: 0.9845\n",
            "Epoch 3/10\n",
            "79/79 [==============================] - 1s 10ms/step - loss: 0.0263 - accuracy: 0.9980\n",
            "Epoch 4/10\n",
            "79/79 [==============================] - 1s 11ms/step - loss: 0.0138 - accuracy: 0.9992\n",
            "Epoch 5/10\n",
            "79/79 [==============================] - 1s 11ms/step - loss: 0.0080 - accuracy: 0.9996\n",
            "Epoch 6/10\n",
            "79/79 [==============================] - 1s 11ms/step - loss: 0.0049 - accuracy: 1.0000\n",
            "Epoch 7/10\n",
            "79/79 [==============================] - 1s 11ms/step - loss: 0.0033 - accuracy: 1.0000\n",
            "Epoch 8/10\n",
            "79/79 [==============================] - 1s 10ms/step - loss: 0.0025 - accuracy: 1.0000\n",
            "Epoch 9/10\n",
            "79/79 [==============================] - 1s 11ms/step - loss: 0.0019 - accuracy: 1.0000\n",
            "Epoch 10/10\n",
            "79/79 [==============================] - 1s 11ms/step - loss: 0.0015 - accuracy: 1.0000\n"
          ]
        },
        {
          "output_type": "execute_result",
          "data": {
            "text/plain": [
              "<keras.callbacks.History at 0x7f260c2702e0>"
            ]
          },
          "metadata": {},
          "execution_count": 64
        }
      ]
    },
    {
      "cell_type": "code",
      "source": [
        "# Evaluate cnn model\n",
        "model.evaluate(test_dataset)"
      ],
      "metadata": {
        "colab": {
          "base_uri": "https://localhost:8080/"
        },
        "id": "nDFxXPoILtYy",
        "outputId": "a29e55a3-dc07-4b79-a245-f8eab2bf97b7"
      },
      "execution_count": 65,
      "outputs": [
        {
          "output_type": "stream",
          "name": "stdout",
          "text": [
            "12/12 [==============================] - 1s 65ms/step - loss: 1.4693 - accuracy: 0.6290\n"
          ]
        },
        {
          "output_type": "execute_result",
          "data": {
            "text/plain": [
              "[1.4693007469177246, 0.6290322542190552]"
            ]
          },
          "metadata": {},
          "execution_count": 65
        }
      ]
    },
    {
      "cell_type": "code",
      "source": [
        "# save cnn model\n",
        "model_name = 'rock_paper_scissors_cnn.h5'\n",
        "model.save(model_name, save_format='h5')"
      ],
      "metadata": {
        "id": "8eS1tIESMLmj"
      },
      "execution_count": 67,
      "outputs": []
    },
    {
      "cell_type": "code",
      "source": [],
      "metadata": {
        "id": "_5ATRdGHNE7Q"
      },
      "execution_count": null,
      "outputs": []
    },
    {
      "cell_type": "markdown",
      "source": [
        "## Finetunning: (Needs to be done)\n",
        "### Train data is overfitting and test accuracy is low. Change parameters. See attached google notebook for optimal parameters. Also, pre-processing may need to be optimized as well, pre-processing imput shape, etc. Again, see notebook from google colab referenced at beginning of notebook."
      ],
      "metadata": {
        "id": "JYQCID1SN_aw"
      }
    },
    {
      "cell_type": "code",
      "source": [],
      "metadata": {
        "id": "UlAztjmNOZkl"
      },
      "execution_count": null,
      "outputs": []
    },
    {
      "cell_type": "code",
      "source": [],
      "metadata": {
        "id": "yd6sCTXOOafK"
      },
      "execution_count": null,
      "outputs": []
    },
    {
      "cell_type": "code",
      "source": [],
      "metadata": {
        "id": "3wsXK42xOah4"
      },
      "execution_count": null,
      "outputs": []
    },
    {
      "cell_type": "code",
      "source": [],
      "metadata": {
        "id": "hQw1B2RyOalV"
      },
      "execution_count": null,
      "outputs": []
    },
    {
      "cell_type": "code",
      "source": [],
      "metadata": {
        "id": "OZaHKHN6Oav0"
      },
      "execution_count": null,
      "outputs": []
    },
    {
      "cell_type": "code",
      "source": [],
      "metadata": {
        "id": "kVebb3xpOazW"
      },
      "execution_count": null,
      "outputs": []
    }
  ]
}